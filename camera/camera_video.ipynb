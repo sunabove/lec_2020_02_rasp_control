{
 "cells": [
  {
   "cell_type": "code",
   "execution_count": 1,
   "id": "treated-hearing",
   "metadata": {},
   "outputs": [
    {
     "name": "stdout",
     "output_type": "stream",
     "text": [
      "Looking in indexes: https://pypi.org/simple, https://www.piwheels.org/simple\r\n",
      "Requirement already satisfied: picamera in /usr/local/lib/python3.7/dist-packages (1.13)\r\n",
      "Requirement already satisfied: Pillow in /usr/local/lib/python3.7/dist-packages (8.1.2)\r\n"
     ]
    }
   ],
   "source": [
    "! sudo pip3 install picamera Pillow"
   ]
  },
  {
   "cell_type": "code",
   "execution_count": 2,
   "id": "square-accent",
   "metadata": {},
   "outputs": [
    {
     "name": "stdout",
     "output_type": "stream",
     "text": [
      "Reading package lists... Done\n",
      "Building dependency tree       \n",
      "Reading state information... Done\n",
      "gpac is already the newest version (0.5.2-426-gc5ad4e4+dfsg5-5).\n",
      "0 upgraded, 0 newly installed, 0 to remove and 0 not upgraded.\n"
     ]
    }
   ],
   "source": [
    "! sudo apt install gpac -y"
   ]
  },
  {
   "cell_type": "code",
   "execution_count": 3,
   "id": "increasing-yield",
   "metadata": {},
   "outputs": [],
   "source": [
    "! rm video.h264 video.mp4 -f"
   ]
  },
  {
   "cell_type": "code",
   "execution_count": 4,
   "id": "regulation-myanmar",
   "metadata": {},
   "outputs": [],
   "source": [
    "! raspivid -o video.h264 -t 10000"
   ]
  },
  {
   "cell_type": "code",
   "execution_count": 5,
   "id": "minimal-globe",
   "metadata": {},
   "outputs": [
    {
     "name": "stdout",
     "output_type": "stream",
     "text": [
      "-rw-r--r-- 1 pi pi 20071526 Mar 28 03:55 video.h264\r\n"
     ]
    }
   ],
   "source": [
    "! ls -l video.h264"
   ]
  },
  {
   "cell_type": "code",
   "execution_count": 6,
   "id": "julian-senate",
   "metadata": {},
   "outputs": [
    {
     "name": "stdout",
     "output_type": "stream",
     "text": [
      "AVC-H264 import - frame size 1920 x 1080 at 25.000 FPS\n",
      "AVC Import results: 285 samples - Slices: 5 I 280 P 0 B - 0 SEI - 5 IDR\n",
      "Saving to video.mp4: 0.500 secs Interleaving\n",
      "                                                        \r"
     ]
    }
   ],
   "source": [
    "! MP4Box -add video.h264 video.mp4"
   ]
  },
  {
   "cell_type": "code",
   "execution_count": 7,
   "id": "regional-stanford",
   "metadata": {},
   "outputs": [
    {
     "data": {
      "text/html": [
       "<video controls width=\"100%\">\n",
       "  <source src=\"video.mp4\" type=\"video/mp4\">\n",
       "</video>\n"
      ],
      "text/plain": [
       "<IPython.core.display.HTML object>"
      ]
     },
     "metadata": {},
     "output_type": "display_data"
    }
   ],
   "source": [
    "%%HTML\n",
    "<video controls width=\"100%\">\n",
    "  <source src=\"video.mp4\" type=\"video/mp4\">\n",
    "</video>"
   ]
  }
 ],
 "metadata": {
  "kernelspec": {
   "display_name": "Python 3",
   "language": "python",
   "name": "python3"
  },
  "language_info": {
   "codemirror_mode": {
    "name": "ipython",
    "version": 3
   },
   "file_extension": ".py",
   "mimetype": "text/x-python",
   "name": "python",
   "nbconvert_exporter": "python",
   "pygments_lexer": "ipython3",
   "version": "3.7.3"
  }
 },
 "nbformat": 4,
 "nbformat_minor": 5
}
