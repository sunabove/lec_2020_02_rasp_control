{
 "cells": [
  {
   "cell_type": "code",
   "execution_count": 13,
   "metadata": {},
   "outputs": [
    {
     "name": "stdout",
     "output_type": "stream",
     "text": [
      "Recording a video ...\n",
      "Recording a video Completed.\n"
     ]
    }
   ],
   "source": [
    "import os\n",
    "import picamera\n",
    "\n",
    "try:\n",
    "    os.unlink('my_video.mp4')\n",
    "    os.unlink('my_video.h264')\n",
    "except: pass\n",
    "\n",
    "print( \"Recording a video ...\" )\n",
    "\n",
    "with picamera.PiCamera() as camera:\n",
    "    camera.hflip = True\n",
    "    camera.vflip = True\n",
    "    camera.resolution = (640, 480)\n",
    "    #camera.framerate = 90\n",
    "    camera.start_recording('my_video.h264')\n",
    "    camera.wait_recording(10)\n",
    "    camera.stop_recording()\n",
    "\n",
    "print( \"Recording a video Completed.\" )"
   ]
  },
  {
   "cell_type": "code",
   "execution_count": 14,
   "metadata": {},
   "outputs": [
    {
     "data": {
      "text/plain": [
       "0"
      ]
     },
     "execution_count": 14,
     "metadata": {},
     "output_type": "execute_result"
    }
   ],
   "source": [
    "# convert video format\n",
    "from subprocess import check_call\n",
    "check_call(\"MP4Box -add my_video.h264 my_video.mp4\", shell=True)"
   ]
  },
  {
   "cell_type": "code",
   "execution_count": 16,
   "metadata": {},
   "outputs": [
    {
     "name": "stdout",
     "output_type": "stream",
     "text": [
      "AVC-H264 import - frame size 640 x 480 at 25.000 FPS\n",
      "AVC Import results: 287 samples - Slices: 5 I 282 P 0 B - 0 SEI - 5 IDR\n",
      "Saving my_video.mp4: 0.500 secs Interleaving\n",
      "                                                        \r"
     ]
    }
   ],
   "source": [
    "! MP4Box -add my_video.h264 my_video.mp4\n"
   ]
  },
  {
   "cell_type": "code",
   "execution_count": 17,
   "metadata": {},
   "outputs": [
    {
     "name": "stdout",
     "output_type": "stream",
     "text": [
      "blink1.ipynb\t      camera_video.ipynb  my_video.h264\r\n",
      "blink2.ipynb\t      image.jpg\t\t  my_video.mp4\r\n",
      "blink2.py\t      led_button.py\t  README.md\r\n",
      "blink.py\t      led_pwd.py\t  rpi_camera_surveillance_system.py\r\n",
      "camera_preview.ipynb  my_blink.py\t  Untitled.ipynb\r\n",
      "camera.py\t      my_prog.py\t  video.h264\r\n"
     ]
    }
   ],
   "source": [
    "! ls"
   ]
  },
  {
   "cell_type": "code",
   "execution_count": 18,
   "metadata": {
    "scrolled": true
   },
   "outputs": [
    {
     "data": {
      "text/html": [
       "<video controls>\n",
       "  <source src=\"my_video.mp4\" type=\"video/mp4\">\n",
       "</video>"
      ],
      "text/plain": [
       "<IPython.core.display.HTML object>"
      ]
     },
     "metadata": {},
     "output_type": "display_data"
    }
   ],
   "source": [
    "%%HTML\n",
    "<video controls>\n",
    "  <source src=\"my_video.mp4\" type=\"video/mp4\">\n",
    "</video>"
   ]
  },
  {
   "cell_type": "code",
   "execution_count": 22,
   "metadata": {},
   "outputs": [
    {
     "name": "stdout",
     "output_type": "stream",
     "text": [
      "AVC-H264 import - frame size 640 x 480 at 25.000 FPS\n",
      "AVC Import results: 287 samples - Slices: 5 I 282 P 0 B - 0 SEI - 5 IDR\n",
      "Saving my_video.mp4: 0.500 secs Interleaving\n",
      "                                                        \r"
     ]
    }
   ],
   "source": [
    "! MP4Box -add my_video.h264 my_video.mp4 "
   ]
  },
  {
   "cell_type": "code",
   "execution_count": 20,
   "metadata": {},
   "outputs": [
    {
     "name": "stdout",
     "output_type": "stream",
     "text": [
      "AVC-H264 import - frame size 640 x 480 at 25.000 FPS\n",
      "AVC Import results: 287 samples - Slices: 5 I 282 P 0 B - 0 SEI - 5 IDR\n",
      "Saving my_video.mp4: 0.500 secs Interleaving\n",
      "                                                        \r"
     ]
    }
   ],
   "source": [
    "! MP4Box -add my_video.h264 my_video.mp4"
   ]
  },
  {
   "cell_type": "code",
   "execution_count": 24,
   "metadata": {},
   "outputs": [
    {
     "name": "stdout",
     "output_type": "stream",
     "text": [
      "AVC-H264 import - frame size 640 x 480 at 25.000 FPS\n",
      "AVC Import results: 287 samples - Slices: 5 I 282 P 0 B - 0 SEI - 5 IDR\n",
      "Saving my_video.mp4: 0.500 secs Interleaving\n",
      "                                                        \r"
     ]
    }
   ],
   "source": [
    "!MP4Box -add my_video.h264 my_video.mp4"
   ]
  },
  {
   "cell_type": "code",
   "execution_count": null,
   "metadata": {},
   "outputs": [],
   "source": []
  }
 ],
 "metadata": {
  "kernelspec": {
   "display_name": "Python 3",
   "language": "python",
   "name": "python3"
  },
  "language_info": {
   "codemirror_mode": {
    "name": "ipython",
    "version": 3
   },
   "file_extension": ".py",
   "mimetype": "text/x-python",
   "name": "python",
   "nbconvert_exporter": "python",
   "pygments_lexer": "ipython3",
   "version": "3.7.3"
  }
 },
 "nbformat": 4,
 "nbformat_minor": 4
}
