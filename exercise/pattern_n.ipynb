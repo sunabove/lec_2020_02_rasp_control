{
 "cells": [
  {
   "cell_type": "code",
   "execution_count": 22,
   "id": "7e29d5d7",
   "metadata": {},
   "outputs": [
    {
     "name": "stdout",
     "output_type": "stream",
     "text": [
      "        1        \n",
      "       212       \n",
      "      32123      \n",
      "     4321234     \n",
      "    543212345    \n",
      "   65432123456   \n",
      "  7654321234567  \n",
      " 876543212345678 \n",
      "98765432123456789\n"
     ]
    }
   ],
   "source": [
    "for i in range(9) :\n",
    "    t = 0\n",
    "    for k in range( -i, i + 1 ) :\n",
    "        t += (abs(k)+1)*10**(i -k)\n",
    "    pass\n",
    "    \n",
    "    t = f\"{t:^17}\"\n",
    "    \n",
    "    print( t )\n",
    "pass"
   ]
  },
  {
   "cell_type": "code",
   "execution_count": 29,
   "id": "bdd62b9e",
   "metadata": {},
   "outputs": [
    {
     "name": "stdout",
     "output_type": "stream",
     "text": [
      "        1        \n",
      "       212       \n",
      "      32123      \n",
      "     4321234     \n",
      "    543212345    \n",
      "   65432123456   \n",
      "  7654321234567  \n",
      " 876543212345678 \n",
      "98765432123456789\n"
     ]
    }
   ],
   "source": [
    "for i in range(9) :\n",
    "    t = 0\n",
    "    for k in range( -i, i + 1 ) :\n",
    "        t += (abs(k)+1)*10**(i -k)\n",
    "    pass\n",
    "    \n",
    "    t = f\"{t}\"\n",
    "    s = [ ' ' ]*17\n",
    "    s[8 - len(t)//2 : 9 + len(t)//2] = t\n",
    "    \n",
    "    s = \"\".join(s)\n",
    "    \n",
    "    print( s )\n",
    "pass"
   ]
  },
  {
   "cell_type": "code",
   "execution_count": 51,
   "id": "b551b30f",
   "metadata": {},
   "outputs": [
    {
     "name": "stdout",
     "output_type": "stream",
     "text": [
      "          9 x 9 + 7 = 88          \n",
      "         98 x 9 + 6 = 888         \n",
      "        987 x 9 + 5 = 8888        \n",
      "       9876 x 9 + 4 = 88888       \n",
      "      98765 x 9 + 3 = 888888      \n",
      "     987654 x 9 + 2 = 8888888     \n",
      "    9876543 x 9 + 1 = 88888888    \n",
      "   98765432 x 9 + 0 = 888888888   \n",
      "  987654321 x 9 - 1 = 8888888888  \n",
      " 9876543210 x 9 - 2 = 88888888888 \n"
     ]
    }
   ],
   "source": [
    "for i in range( 10 ):\n",
    "    a = 0\n",
    "    for k in range(i + 1) :\n",
    "        a = 10*a + 9 - k\n",
    "    pass\n",
    "    c = 7 - i\n",
    "    d = a*9 + c\n",
    "    sign = \"+\" if c > -1 else \"-\"\n",
    "    t = f\"{a} x 9 {sign} {abs(c)} = {d}\"\n",
    "    t = f\"{t:^34}\"\n",
    "    print( t )"
   ]
  }
 ],
 "metadata": {
  "kernelspec": {
   "display_name": "Python 3",
   "language": "python",
   "name": "python3"
  },
  "language_info": {
   "codemirror_mode": {
    "name": "ipython",
    "version": 3
   },
   "file_extension": ".py",
   "mimetype": "text/x-python",
   "name": "python",
   "nbconvert_exporter": "python",
   "pygments_lexer": "ipython3",
   "version": "3.7.3"
  }
 },
 "nbformat": 4,
 "nbformat_minor": 5
}
