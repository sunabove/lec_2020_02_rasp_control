{
 "cells": [
  {
   "cell_type": "code",
   "execution_count": 1,
   "metadata": {},
   "outputs": [],
   "source": [
    "from Motor import *\n",
    "motor = Motor()"
   ]
  },
  {
   "cell_type": "code",
   "execution_count": 2,
   "metadata": {},
   "outputs": [
    {
     "name": "stderr",
     "output_type": "stream",
     "text": [
      "2020-11-29:19:27:26, INFO     [Motor.py:0082] forward\n",
      "2020-11-29:19:27:29, INFO     [Motor.py:0096] backward\n",
      "2020-11-29:19:27:32, INFO     [Motor.py:0132] left\n",
      "2020-11-29:19:27:35, INFO     [Motor.py:0137] right\n",
      "2020-11-29:19:27:38, INFO     [Motor.py:0122] stop\n"
     ]
    }
   ],
   "source": [
    "motor.test_all()"
   ]
  },
  {
   "cell_type": "code",
   "execution_count": 3,
   "metadata": {},
   "outputs": [
    {
     "name": "stderr",
     "output_type": "stream",
     "text": [
      "2020-11-29:19:27:43, INFO     [Motor.py:0082] forward\n"
     ]
    }
   ],
   "source": [
    "motor.forward()"
   ]
  },
  {
   "cell_type": "code",
   "execution_count": 4,
   "metadata": {},
   "outputs": [
    {
     "name": "stderr",
     "output_type": "stream",
     "text": [
      "2020-11-29:19:27:47, INFO     [Motor.py:0096] backward\n"
     ]
    }
   ],
   "source": [
    "motor.back()"
   ]
  },
  {
   "cell_type": "code",
   "execution_count": 5,
   "metadata": {},
   "outputs": [
    {
     "name": "stderr",
     "output_type": "stream",
     "text": [
      "2020-11-29:19:27:51, INFO     [Motor.py:0132] left\n"
     ]
    }
   ],
   "source": [
    "motor.left()"
   ]
  },
  {
   "cell_type": "code",
   "execution_count": 6,
   "metadata": {},
   "outputs": [
    {
     "name": "stderr",
     "output_type": "stream",
     "text": [
      "2020-11-29:19:27:53, INFO     [Motor.py:0137] right\n"
     ]
    }
   ],
   "source": [
    "motor.right()"
   ]
  },
  {
   "cell_type": "code",
   "execution_count": 7,
   "metadata": {},
   "outputs": [
    {
     "name": "stderr",
     "output_type": "stream",
     "text": [
      "2020-11-29:19:27:55, INFO     [Motor.py:0122] stop\n"
     ]
    }
   ],
   "source": [
    "motor.stop()"
   ]
  },
  {
   "cell_type": "code",
   "execution_count": null,
   "metadata": {},
   "outputs": [],
   "source": []
  }
 ],
 "metadata": {
  "kernelspec": {
   "display_name": "Python 3",
   "language": "python",
   "name": "python3"
  },
  "language_info": {
   "codemirror_mode": {
    "name": "ipython",
    "version": 3
   },
   "file_extension": ".py",
   "mimetype": "text/x-python",
   "name": "python",
   "nbconvert_exporter": "python",
   "pygments_lexer": "ipython3",
   "version": "3.7.3"
  }
 },
 "nbformat": 4,
 "nbformat_minor": 4
}
