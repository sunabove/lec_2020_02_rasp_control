{
 "cells": [
  {
   "cell_type": "code",
   "execution_count": 1,
   "id": "temporal-europe",
   "metadata": {},
   "outputs": [
    {
     "name": "stdout",
     "output_type": "stream",
     "text": [
      "Get:1 http://archive.raspberrypi.org/debian buster InRelease [32.9 kB]\n",
      "Get:2 http://raspbian.raspberrypi.org/raspbian buster InRelease [15.0 kB]\n",
      "Get:3 http://archive.raspberrypi.org/debian buster/main armhf Packages [372 kB]\n",
      "Get:4 http://raspbian.raspberrypi.org/raspbian buster/main armhf Packages [13.0 MB]\n",
      "Fetched 13.4 MB in 22s (616 kB/s)                                              \u001b[0m\u001b[33m[33m\u001b[33m\u001b[33m\u001b[33m\u001b[33m\u001b[33m\u001b[33m\u001b[33m\u001b[33m\u001b[33m\u001b[33m\u001b[33m\u001b[33m\u001b[33m\u001b[33m\u001b[33m\u001b[33m\u001b[33m\u001b[33m\u001b[33m\u001b[33m\u001b[33m\u001b[33m\u001b[33m\u001b[33m\u001b[33m\u001b[33m\u001b[33m\u001b[33m\u001b[33m\u001b[33m\u001b[33m\u001b[33m\u001b[33m\n",
      "Reading package lists... Done\n",
      "Building dependency tree       \n",
      "Reading state information... Done\n",
      "All packages are up to date.\n"
     ]
    }
   ],
   "source": [
    "! sudo apt update"
   ]
  },
  {
   "cell_type": "code",
   "execution_count": null,
   "id": "british-daughter",
   "metadata": {},
   "outputs": [],
   "source": []
  }
 ],
 "metadata": {
  "kernelspec": {
   "display_name": "Python 3",
   "language": "python",
   "name": "python3"
  },
  "language_info": {
   "codemirror_mode": {
    "name": "ipython",
    "version": 3
   },
   "file_extension": ".py",
   "mimetype": "text/x-python",
   "name": "python",
   "nbconvert_exporter": "python",
   "pygments_lexer": "ipython3",
   "version": "3.7.3"
  }
 },
 "nbformat": 4,
 "nbformat_minor": 5
}
