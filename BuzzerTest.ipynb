{
 "cells": [
  {
   "cell_type": "code",
   "execution_count": 1,
   "id": "7c67b738",
   "metadata": {},
   "outputs": [],
   "source": [
    "from gpiozero import Buzzer\n",
    "from time import sleep\n",
    "\n",
    "bz = Buzzer(4) \n",
    "\n",
    "def buzzer_test(btn):\n",
    "    bz.beep(on_time=0.5, off_time=0.5, n=4)\n",
    "pass"
   ]
  },
  {
   "cell_type": "code",
   "execution_count": 2,
   "id": "6c183c00",
   "metadata": {},
   "outputs": [
    {
     "data": {
      "application/vnd.jupyter.widget-view+json": {
       "model_id": "240f554b73824cf98d7f12897f44654c",
       "version_major": 2,
       "version_minor": 0
      },
      "text/plain": [
       "GridspecLayout(children=(Button(description='Buzzer', layout=Layout(grid_area='widget001'), style=ButtonStyle(…"
      ]
     },
     "metadata": {},
     "output_type": "display_data"
    }
   ],
   "source": [
    "from IPython.display import display, Markdown, clear_output\n",
    "import ipywidgets as widgets\n",
    "\n",
    "buzzerBtn = widgets.Button(description=f'Buzzer') \n",
    "buzzerBtn.on_click( buzzer_test )\n",
    "out = widgets.Output()\n",
    "\n",
    "grid = widgets.GridspecLayout(2,1, width=\"60%\")\n",
    "\n",
    "grid[0, 0] = buzzerBtn\n",
    "grid[1, 0] = out\n",
    "\n",
    "grid"
   ]
  }
 ],
 "metadata": {
  "kernelspec": {
   "display_name": "Python 3",
   "language": "python",
   "name": "python3"
  },
  "language_info": {
   "codemirror_mode": {
    "name": "ipython",
    "version": 3
   },
   "file_extension": ".py",
   "mimetype": "text/x-python",
   "name": "python",
   "nbconvert_exporter": "python",
   "pygments_lexer": "ipython3",
   "version": "3.7.3"
  }
 },
 "nbformat": 4,
 "nbformat_minor": 5
}
