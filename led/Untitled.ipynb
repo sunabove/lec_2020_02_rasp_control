{
 "cells": [
  {
   "cell_type": "code",
   "execution_count": null,
   "id": "4ecef30b",
   "metadata": {},
   "outputs": [],
   "source": [
    "from gpiozero import PWMLED\n",
    "from time import sleep\n",
    "\n",
    "\n",
    "# pwmLed = PWMLED(17)\n",
    "\n",
    "with PWMLED(17) as pwmLed :\n",
    "\n",
    "    while True :\n",
    "       for x in range( 101 ) :\n",
    "          pwmLed.value = x/100\n",
    "          sleep(0.02)\n",
    "\n",
    "       sleep( 0.3 )\n",
    "\n",
    "       for x in range( 101 ) :\n",
    "          pwmLed.value = (100 - x)/100\n",
    "          sleep(0.02)\n",
    "\n",
    "       sleep( 0.3 )\n",
    "pass\n",
    " "
   ]
  },
  {
   "cell_type": "code",
   "execution_count": null,
   "id": "34fb8b96",
   "metadata": {},
   "outputs": [],
   "source": []
  }
 ],
 "metadata": {
  "kernelspec": {
   "display_name": "Python 3",
   "language": "python",
   "name": "python3"
  },
  "language_info": {
   "codemirror_mode": {
    "name": "ipython",
    "version": 3
   },
   "file_extension": ".py",
   "mimetype": "text/x-python",
   "name": "python",
   "nbconvert_exporter": "python",
   "pygments_lexer": "ipython3",
   "version": "3.7.3"
  }
 },
 "nbformat": 4,
 "nbformat_minor": 5
}
