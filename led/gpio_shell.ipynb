{
 "cells": [
  {
   "attachments": {},
   "cell_type": "markdown",
   "id": "incredible-south",
   "metadata": {},
   "source": [
    "#### 현재 GPIO 제어 상태를 확인"
   ]
  },
  {
   "cell_type": "code",
   "execution_count": 2,
   "id": "circular-copyright",
   "metadata": {
    "scrolled": true
   },
   "outputs": [
    {
     "name": "stdout",
     "output_type": "stream",
     "text": [
      "\u001b[37;42m,--------------------------------.\u001b[0m\r\n",
      "\u001b[37;42m| \u001b[40m\u001b[1;31mo\u001b[0m\u001b[40m\u001b[1;31mo\u001b[0m\u001b[40m\u001b[1;30mo\u001b[0m\u001b[40m\u001b[1;32mo\u001b[0m\u001b[40m\u001b[1;32mo\u001b[0m\u001b[40m\u001b[1;32mo\u001b[0m\u001b[40m\u001b[1;30mo\u001b[0m\u001b[40m\u001b[1;32mo\u001b[0m\u001b[40m\u001b[1;32mo\u001b[0m\u001b[40m\u001b[1;30mo\u001b[0m\u001b[40m\u001b[1;32mo\u001b[0m\u001b[40m\u001b[1;32mo\u001b[0m\u001b[40m\u001b[1;32mo\u001b[0m\u001b[40m\u001b[1;32mo\u001b[0m\u001b[40m\u001b[1;30mo\u001b[0m\u001b[40m\u001b[1;32mo\u001b[0m\u001b[40m\u001b[1;30mo\u001b[0m\u001b[40m\u001b[1;32mo\u001b[0m\u001b[40m\u001b[1;32mo\u001b[0m\u001b[40m\u001b[1;32mo\u001b[0m\u001b[37;42m J8     \u001b[30;47m+====\u001b[0m\r\n",
      "\u001b[37;42m| \u001b[40m\u001b[1;36m1\u001b[0m\u001b[40m\u001b[1;32mo\u001b[0m\u001b[40m\u001b[1;32mo\u001b[0m\u001b[40m\u001b[1;32mo\u001b[0m\u001b[40m\u001b[1;30mo\u001b[0m\u001b[40m\u001b[1;32mo\u001b[0m\u001b[40m\u001b[1;32mo\u001b[0m\u001b[40m\u001b[1;32mo\u001b[0m\u001b[40m\u001b[1;36mo\u001b[0m\u001b[40m\u001b[1;32mo\u001b[0m\u001b[40m\u001b[1;32mo\u001b[0m\u001b[40m\u001b[1;32mo\u001b[0m\u001b[40m\u001b[1;30mo\u001b[0m\u001b[40m\u001b[1;32mo\u001b[0m\u001b[40m\u001b[1;32mo\u001b[0m\u001b[40m\u001b[1;32mo\u001b[0m\u001b[40m\u001b[1;32mo\u001b[0m\u001b[40m\u001b[1;32mo\u001b[0m\u001b[40m\u001b[1;32mo\u001b[0m\u001b[40m\u001b[1;30mo\u001b[0m\u001b[37;42m        \u001b[30;47m| USB\u001b[0m\r\n",
      "\u001b[37;42m|                             \u001b[30;47m+====\u001b[0m\r\n",
      "\u001b[37;42m|      \u001b[1mPi Model 3B  V1.2\u001b[22m         |\u001b[0m\r\n",
      "\u001b[37;42m|      \u001b[40m+----+\u001b[42m                 \u001b[30;47m+====\u001b[0m\r\n",
      "\u001b[37;42m| \u001b[40m|D|\u001b[42m  \u001b[40m|SoC |\u001b[42m                 \u001b[30;47m| USB\u001b[0m\r\n",
      "\u001b[37;42m| \u001b[40m|S|\u001b[42m  \u001b[40m|    |\u001b[42m                 \u001b[30;47m+====\u001b[0m\r\n",
      "\u001b[37;42m| \u001b[40m|I|\u001b[42m  \u001b[40m+----+\u001b[42m                    |\u001b[0m\r\n",
      "\u001b[37;42m|                   \u001b[40m|C|\u001b[42m     \u001b[30;47m+======\u001b[0m\r\n",
      "\u001b[37;42m|                   \u001b[40m|S|\u001b[42m     \u001b[30;47m|   Net\u001b[0m\r\n",
      "\u001b[37;42m| \u001b[30;47mpwr\u001b[37;42m        \u001b[30;47m|HDMI|\u001b[37;42m \u001b[40m|I||A|\u001b[42m  \u001b[30;47m+======\u001b[0m\r\n",
      "\u001b[37;42m`-\u001b[30;47m| |\u001b[37;42m--------\u001b[30;47m|    |\u001b[37;42m----\u001b[40m|V|\u001b[42m-------'\u001b[0m\r\n",
      "\r\n",
      "\u001b[1mRevision           \u001b[0m: a32082\r\n",
      "\u001b[1mSoC                \u001b[0m: BCM2837\r\n",
      "\u001b[1mRAM                \u001b[0m: 1GB\r\n",
      "\u001b[1mStorage            \u001b[0m: MicroSD\r\n",
      "\u001b[1mUSB ports          \u001b[0m: 4 (of which 0 USB3)\r\n",
      "\u001b[1mEthernet ports     \u001b[0m: 1 (100Mbps max. speed)\r\n",
      "\u001b[1mWi-fi              \u001b[0m: True\r\n",
      "\u001b[1mBluetooth          \u001b[0m: True\r\n",
      "\u001b[1mCamera ports (CSI) \u001b[0m: 1\r\n",
      "\u001b[1mDisplay ports (DSI)\u001b[0m: 1\r\n",
      "\r\n",
      "\u001b[1mJ8\u001b[0m:\r\n",
      "\u001b[1;36m   3V3\u001b[0m  (1)\u001b[0m (2) \u001b[0m \u001b[1;31m5V    \u001b[0m\r\n",
      "\u001b[1;32m GPIO2\u001b[0m  (3)\u001b[0m (4) \u001b[0m \u001b[1;31m5V    \u001b[0m\r\n",
      "\u001b[1;32m GPIO3\u001b[0m  (5)\u001b[0m (6) \u001b[0m \u001b[1;30mGND   \u001b[0m\r\n",
      "\u001b[1;32m GPIO4\u001b[0m  (7)\u001b[0m (8) \u001b[0m \u001b[1;32mGPIO14\u001b[0m\r\n",
      "\u001b[1;30m   GND\u001b[0m  (9)\u001b[0m (10)\u001b[0m \u001b[1;32mGPIO15\u001b[0m\r\n",
      "\u001b[1;32mGPIO17\u001b[0m (11)\u001b[0m (12)\u001b[0m \u001b[1;32mGPIO18\u001b[0m\r\n",
      "\u001b[1;32mGPIO27\u001b[0m (13)\u001b[0m (14)\u001b[0m \u001b[1;30mGND   \u001b[0m\r\n",
      "\u001b[1;32mGPIO22\u001b[0m (15)\u001b[0m (16)\u001b[0m \u001b[1;32mGPIO23\u001b[0m\r\n",
      "\u001b[1;36m   3V3\u001b[0m (17)\u001b[0m (18)\u001b[0m \u001b[1;32mGPIO24\u001b[0m\r\n",
      "\u001b[1;32mGPIO10\u001b[0m (19)\u001b[0m (20)\u001b[0m \u001b[1;30mGND   \u001b[0m\r\n",
      "\u001b[1;32m GPIO9\u001b[0m (21)\u001b[0m (22)\u001b[0m \u001b[1;32mGPIO25\u001b[0m\r\n",
      "\u001b[1;32mGPIO11\u001b[0m (23)\u001b[0m (24)\u001b[0m \u001b[1;32mGPIO8 \u001b[0m\r\n",
      "\u001b[1;30m   GND\u001b[0m (25)\u001b[0m (26)\u001b[0m \u001b[1;32mGPIO7 \u001b[0m\r\n",
      "\u001b[1;32m GPIO0\u001b[0m (27)\u001b[0m (28)\u001b[0m \u001b[1;32mGPIO1 \u001b[0m\r\n",
      "\u001b[1;32m GPIO5\u001b[0m (29)\u001b[0m (30)\u001b[0m \u001b[1;30mGND   \u001b[0m\r\n",
      "\u001b[1;32m GPIO6\u001b[0m (31)\u001b[0m (32)\u001b[0m \u001b[1;32mGPIO12\u001b[0m\r\n",
      "\u001b[1;32mGPIO13\u001b[0m (33)\u001b[0m (34)\u001b[0m \u001b[1;30mGND   \u001b[0m\r\n",
      "\u001b[1;32mGPIO19\u001b[0m (35)\u001b[0m (36)\u001b[0m \u001b[1;32mGPIO16\u001b[0m\r\n",
      "\u001b[1;32mGPIO26\u001b[0m (37)\u001b[0m (38)\u001b[0m \u001b[1;32mGPIO20\u001b[0m\r\n",
      "\u001b[1;30m   GND\u001b[0m (39)\u001b[0m (40)\u001b[0m \u001b[1;32mGPIO21\u001b[0m\r\n",
      "\r\n",
      "For further information, please refer to https://pinout.xyz/\r\n"
     ]
    }
   ],
   "source": [
    "! pinout"
   ]
  },
  {
   "cell_type": "markdown",
   "id": "changed-might",
   "metadata": {},
   "source": [
    "#### gpio 17번 포트를 출력으로 설정"
   ]
  },
  {
   "cell_type": "code",
   "execution_count": 7,
   "id": "rational-radiation",
   "metadata": {},
   "outputs": [],
   "source": [
    "! gpio -g  mode  17  out"
   ]
  },
  {
   "attachments": {},
   "cell_type": "markdown",
   "id": "contemporary-samoa",
   "metadata": {},
   "source": [
    "#### GPIO 17번 핀에 전압 공급"
   ]
  },
  {
   "cell_type": "code",
   "execution_count": 8,
   "id": "split-mountain",
   "metadata": {},
   "outputs": [],
   "source": [
    "! gpio -g write 17 1"
   ]
  },
  {
   "cell_type": "markdown",
   "id": "chubby-agriculture",
   "metadata": {},
   "source": [
    "#### GPIO  17번 핀에 전압 해제"
   ]
  },
  {
   "cell_type": "code",
   "execution_count": 9,
   "id": "ignored-medicaid",
   "metadata": {},
   "outputs": [],
   "source": [
    "! gpio -g write 17 0"
   ]
  },
  {
   "attachments": {},
   "cell_type": "markdown",
   "id": "outstanding-structure",
   "metadata": {},
   "source": [
    "#### 현재 GPIO 제어 상태를 확인"
   ]
  },
  {
   "cell_type": "code",
   "execution_count": 10,
   "id": "working-newcastle",
   "metadata": {},
   "outputs": [
    {
     "name": "stdout",
     "output_type": "stream",
     "text": [
      " +-----+-----+---------+------+---+---Pi 3B--+---+------+---------+-----+-----+\r\n",
      " | BCM | wPi |   Name  | Mode | V | Physical | V | Mode | Name    | wPi | BCM |\r\n",
      " +-----+-----+---------+------+---+----++----+---+------+---------+-----+-----+\r\n",
      " |     |     |    3.3v |      |   |  1 || 2  |   |      | 5v      |     |     |\r\n",
      " |   2 |   8 |   SDA.1 | ALT0 | 1 |  3 || 4  |   |      | 5v      |     |     |\r\n",
      " |   3 |   9 |   SCL.1 | ALT0 | 1 |  5 || 6  |   |      | 0v      |     |     |\r\n",
      " |   4 |   7 | GPIO. 7 |   IN | 1 |  7 || 8  | 0 | IN   | TxD     | 15  | 14  |\r\n",
      " |     |     |      0v |      |   |  9 || 10 | 1 | IN   | RxD     | 16  | 15  |\r\n",
      " |  17 |   0 | GPIO. 0 |  OUT | 0 | 11 || 12 | 0 | IN   | GPIO. 1 | 1   | 18  |\r\n",
      " |  27 |   2 | GPIO. 2 |   IN | 0 | 13 || 14 |   |      | 0v      |     |     |\r\n",
      " |  22 |   3 | GPIO. 3 |   IN | 0 | 15 || 16 | 0 | IN   | GPIO. 4 | 4   | 23  |\r\n",
      " |     |     |    3.3v |      |   | 17 || 18 | 0 | IN   | GPIO. 5 | 5   | 24  |\r\n",
      " |  10 |  12 |    MOSI | ALT0 | 0 | 19 || 20 |   |      | 0v      |     |     |\r\n",
      " |   9 |  13 |    MISO | ALT0 | 0 | 21 || 22 | 0 | IN   | GPIO. 6 | 6   | 25  |\r\n",
      " |  11 |  14 |    SCLK | ALT0 | 0 | 23 || 24 | 1 | OUT  | CE0     | 10  | 8   |\r\n",
      " |     |     |      0v |      |   | 25 || 26 | 1 | OUT  | CE1     | 11  | 7   |\r\n",
      " |   0 |  30 |   SDA.0 |   IN | 1 | 27 || 28 | 1 | IN   | SCL.0   | 31  | 1   |\r\n",
      " |   5 |  21 | GPIO.21 |   IN | 1 | 29 || 30 |   |      | 0v      |     |     |\r\n",
      " |   6 |  22 | GPIO.22 |   IN | 1 | 31 || 32 | 0 | IN   | GPIO.26 | 26  | 12  |\r\n",
      " |  13 |  23 | GPIO.23 |   IN | 0 | 33 || 34 |   |      | 0v      |     |     |\r\n",
      " |  19 |  24 | GPIO.24 |   IN | 0 | 35 || 36 | 0 | IN   | GPIO.27 | 27  | 16  |\r\n",
      " |  26 |  25 | GPIO.25 |   IN | 0 | 37 || 38 | 0 | IN   | GPIO.28 | 28  | 20  |\r\n",
      " |     |     |      0v |      |   | 39 || 40 | 0 | IN   | GPIO.29 | 29  | 21  |\r\n",
      " +-----+-----+---------+------+---+----++----+---+------+---------+-----+-----+\r\n",
      " | BCM | wPi |   Name  | Mode | V | Physical | V | Mode | Name    | wPi | BCM |\r\n",
      " +-----+-----+---------+------+---+---Pi 3B--+---+------+---------+-----+-----+\r\n"
     ]
    }
   ],
   "source": [
    "! gpio readall"
   ]
  },
  {
   "cell_type": "code",
   "execution_count": null,
   "id": "loved-quest",
   "metadata": {},
   "outputs": [],
   "source": []
  }
 ],
 "metadata": {
  "kernelspec": {
   "display_name": "Python 3",
   "language": "python",
   "name": "python3"
  },
  "language_info": {
   "codemirror_mode": {
    "name": "ipython",
    "version": 3
   },
   "file_extension": ".py",
   "mimetype": "text/x-python",
   "name": "python",
   "nbconvert_exporter": "python",
   "pygments_lexer": "ipython3",
   "version": "3.7.3"
  }
 },
 "nbformat": 4,
 "nbformat_minor": 5
}
