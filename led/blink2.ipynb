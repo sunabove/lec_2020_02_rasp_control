{
 "cells": [
  {
   "cell_type": "code",
   "execution_count": 19,
   "metadata": {},
   "outputs": [
    {
     "name": "stdout",
     "output_type": "stream",
     "text": [
      "* * * * * * * * * * * * * * \n",
      "Stopped\n"
     ]
    }
   ],
   "source": [
    "# coding: utf-8\n",
    "from time import sleep\n",
    "import RPi.GPIO as GPIO\n",
    "# Use \"GPIO\" pin numbering\n",
    "GPIO.setmode(GPIO.BCM)\n",
    "GPIO.setwarnings(False)\n",
    "# Set LED pin as output\n",
    "led_pin = 17\n",
    "GPIO.setup(led_pin, GPIO.OUT) \n",
    "try : \n",
    "    while True :\n",
    "        print( \"* \", end=\"\" )\n",
    "        # Turn LED on\n",
    "        GPIO.output(led_pin, 1)\n",
    "        sleep(1)\n",
    "        # Turn LED off\n",
    "        GPIO.output(led_pin, 0)  \n",
    "        sleep(1)\n",
    "    pass\n",
    "except KeyboardInterrupt :\n",
    "    GPIO.output(led_pin, 0)  \n",
    "    print( \"\\nStopped\")\n",
    "pass"
   ]
  },
  {
   "cell_type": "code",
   "execution_count": null,
   "metadata": {},
   "outputs": [],
   "source": []
  }
 ],
 "metadata": {
  "kernelspec": {
   "display_name": "Python 3",
   "language": "python",
   "name": "python3"
  },
  "language_info": {
   "codemirror_mode": {
    "name": "ipython",
    "version": 3
   },
   "file_extension": ".py",
   "mimetype": "text/x-python",
   "name": "python",
   "nbconvert_exporter": "python",
   "pygments_lexer": "ipython3",
   "version": "3.7.3"
  }
 },
 "nbformat": 4,
 "nbformat_minor": 4
}
