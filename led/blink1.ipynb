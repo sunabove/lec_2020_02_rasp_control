{
 "cells": [
  {
   "cell_type": "code",
   "execution_count": 1,
   "metadata": {},
   "outputs": [],
   "source": [
    "from gpiozero import LED\n",
    "from time import sleep\n",
    "\n",
    "led_blink = True\n",
    "\n",
    "def blink_led(): \n",
    "    try : \n",
    "        led_blink = True\n",
    "        \n",
    "        led = LED(17)\n",
    "        \n",
    "        while led_blink :\n",
    "            led.on()\n",
    "            sleep(1)\n",
    "            led.off()\n",
    "            sleep(1)\n",
    "            #print( \"Running ....\" )\n",
    "        pass     \n",
    "            \n",
    "    except KeyboardInterrupt :\n",
    "        led.off()\n",
    "        print( \"\\nStopped.\")\n",
    "    pass\n",
    "pass"
   ]
  },
  {
   "cell_type": "code",
   "execution_count": 4,
   "metadata": {},
   "outputs": [
    {
     "name": "stdout",
     "output_type": "stream",
     "text": [
      "\n",
      "Stopped.\n"
     ]
    }
   ],
   "source": [
    "blink_led()"
   ]
  }
 ],
 "metadata": {
  "kernelspec": {
   "display_name": "Python 3",
   "language": "python",
   "name": "python3"
  },
  "language_info": {
   "codemirror_mode": {
    "name": "ipython",
    "version": 3
   },
   "file_extension": ".py",
   "mimetype": "text/x-python",
   "name": "python",
   "nbconvert_exporter": "python",
   "pygments_lexer": "ipython3",
   "version": "3.7.3"
  }
 },
 "nbformat": 4,
 "nbformat_minor": 4
}
