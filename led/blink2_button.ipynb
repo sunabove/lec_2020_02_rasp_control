{
 "cells": [
  {
   "cell_type": "code",
   "execution_count": 1,
   "metadata": {},
   "outputs": [
    {
     "name": "stdout",
     "output_type": "stream",
     "text": [
      "Looking in indexes: https://pypi.org/simple, https://www.piwheels.org/simple\n",
      "Requirement already satisfied: matplotlib in /usr/local/lib/python3.7/dist-packages (3.4.1)\n",
      "Requirement already satisfied: pillow>=6.2.0 in /usr/local/lib/python3.7/dist-packages (from matplotlib) (8.2.0)\n",
      "Requirement already satisfied: cycler>=0.10 in /usr/local/lib/python3.7/dist-packages (from matplotlib) (0.10.0)\n",
      "Requirement already satisfied: pyparsing>=2.2.1 in /usr/local/lib/python3.7/dist-packages (from matplotlib) (2.4.7)\n",
      "Requirement already satisfied: numpy>=1.16 in /usr/local/lib/python3.7/dist-packages (from matplotlib) (1.20.2)\n",
      "Requirement already satisfied: python-dateutil>=2.7 in /usr/local/lib/python3.7/dist-packages (from matplotlib) (2.8.1)\n",
      "Requirement already satisfied: kiwisolver>=1.0.1 in /usr/local/lib/python3.7/dist-packages (from matplotlib) (1.3.1)\n",
      "Requirement already satisfied: six in /usr/local/lib/python3.7/dist-packages (from cycler>=0.10->matplotlib) (1.15.0)\n"
     ]
    }
   ],
   "source": [
    "! sudo pip3 install matplotlib"
   ]
  },
  {
   "cell_type": "code",
   "execution_count": 2,
   "metadata": {},
   "outputs": [],
   "source": [
    "from gpiozero import LED\n",
    "from time import sleep"
   ]
  },
  {
   "cell_type": "code",
   "execution_count": 3,
   "metadata": {},
   "outputs": [],
   "source": [
    "led_blink = False\n",
    "interval = 1\n",
    "\n",
    "def blink_led(): \n",
    "    try : \n",
    "        global led_blink\n",
    "        led_blink = True\n",
    "        \n",
    "        led = LED(17)\n",
    "        \n",
    "        while led_blink :\n",
    "            led.on()\n",
    "            sleep( interval )\n",
    "            led.off()\n",
    "            sleep( interval )\n",
    "            #print( \"Running ....\" )\n",
    "        pass\n",
    "        \n",
    "        led.off()\n",
    "    except KeyboardInterrupt :\n",
    "        pass\n",
    "    finally :\n",
    "        led.off()\n",
    "        print( \"Stopped.\")\n",
    "    pass\n",
    "pass"
   ]
  },
  {
   "cell_type": "code",
   "execution_count": 4,
   "metadata": {},
   "outputs": [
    {
     "data": {
      "application/vnd.jupyter.widget-view+json": {
       "model_id": "ede2853950184ec29e2f50ac6c79b1fb",
       "version_major": 2,
       "version_minor": 0
      },
      "text/plain": [
       "VBox(children=(FloatSlider(value=1.0, max=1.1, min=0.1), Button(description='LED blink = False', style=ButtonS…"
      ]
     },
     "metadata": {},
     "output_type": "display_data"
    }
   ],
   "source": [
    "from IPython.display import display, Markdown, clear_output\n",
    "import ipywidgets as widgets\n",
    "\n",
    "slider = widgets.FloatSlider(value=interval, min=0.1, max=1.1, step=0.1)\n",
    "button = widgets.Button(description=f'LED blink = {led_blink}')\n",
    "out = widgets.Output()\n",
    "\n",
    "def on_button_clicked(change):\n",
    "    # \"linking function with output\"\n",
    "    with out:\n",
    "        # what happens when we press the button\n",
    "        clear_output()\n",
    "        global led_blink\n",
    "        global interval\n",
    "        \n",
    "        if led_blink :\n",
    "            led_blink = False \n",
    "        else :\n",
    "            interval = slider.value\n",
    "            \n",
    "            from threading import Thread\n",
    "            x = Thread(target=blink_led, args=[ ] )\n",
    "            x.start()\n",
    "        pass\n",
    "    \n",
    "        button.description = f'LED blink = {led_blink}'\n",
    "        \n",
    "        print(f'LED = {led_blink}, interval={interval}')\n",
    "        \n",
    "    pass\n",
    "pass\n",
    "        \n",
    "def on_slider_value_chage(change):\n",
    "    with out:\n",
    "        clear_output()\n",
    "        global interval\n",
    "        interval = change['new']\n",
    "        print( f\"interval = {interval}\")\n",
    "    pass\n",
    "pass\n",
    "\n",
    "# linking button and function together using a button's method\n",
    "slider.observe(on_slider_value_chage, 'value')\n",
    "button.on_click(on_button_clicked)\n",
    "# displaying button and its output together\n",
    "widgets.VBox( [slider, button, out] )\n"
   ]
  }
 ],
 "metadata": {
  "kernelspec": {
   "display_name": "Python 3",
   "language": "python",
   "name": "python3"
  },
  "language_info": {
   "codemirror_mode": {
    "name": "ipython",
    "version": 3
   },
   "file_extension": ".py",
   "mimetype": "text/x-python",
   "name": "python",
   "nbconvert_exporter": "python",
   "pygments_lexer": "ipython3",
   "version": "3.7.3"
  }
 },
 "nbformat": 4,
 "nbformat_minor": 4
}
