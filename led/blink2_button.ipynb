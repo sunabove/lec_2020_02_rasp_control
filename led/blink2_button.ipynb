{
 "cells": [
  {
   "cell_type": "code",
   "execution_count": null,
   "metadata": {},
   "outputs": [],
   "source": [
    "! sudo pip3 install matplotlib"
   ]
  },
  {
   "cell_type": "code",
   "execution_count": 1,
   "metadata": {},
   "outputs": [],
   "source": [
    "from gpiozero import LED\n",
    "from time import sleep"
   ]
  },
  {
   "cell_type": "code",
   "execution_count": 2,
   "metadata": {},
   "outputs": [],
   "source": [
    "led_blink = False\n",
    "interval = 1\n",
    "\n",
    "def blink_led(): \n",
    "    try : \n",
    "        global led_blink\n",
    "        led_blink = True\n",
    "        \n",
    "        led = LED(17)\n",
    "        \n",
    "        while led_blink :\n",
    "            led.on()\n",
    "            sleep( interval )\n",
    "            led.off()\n",
    "            sleep( interval )\n",
    "            #print( \"Running ....\" )\n",
    "        pass\n",
    "        \n",
    "        led.off()\n",
    "    except KeyboardInterrupt :\n",
    "        pass\n",
    "    finally :\n",
    "        led.off()\n",
    "        print( \"Stopped.\")\n",
    "    pass\n",
    "pass"
   ]
  },
  {
   "cell_type": "code",
   "execution_count": 3,
   "metadata": {},
   "outputs": [
    {
     "data": {
      "application/vnd.jupyter.widget-view+json": {
       "model_id": "584817fd76704fb4928a860f4adfada4",
       "version_major": 2,
       "version_minor": 0
      },
      "text/plain": [
       "VBox(children=(FloatSlider(value=1.0, max=1.1, min=0.1), Button(description='LED blink = False', style=ButtonS…"
      ]
     },
     "metadata": {},
     "output_type": "display_data"
    },
    {
     "name": "stdout",
     "output_type": "stream",
     "text": [
      "LED = True, interval=1.0\n",
      "Stopped.\n"
     ]
    }
   ],
   "source": [
    "# some handy functions to use along widgets\n",
    "from IPython.display import display, Markdown, clear_output\n",
    "# widget packages\n",
    "import ipywidgets as widgets\n",
    "\n",
    "slider = widgets.FloatSlider(value=interval, min=0.1, max=1.1, step=0.1)\n",
    "button = widgets.Button(description=f'LED blink = {led_blink}')\n",
    "out = widgets.Output()\n",
    "\n",
    "def on_button_clicked(_):\n",
    "    # \"linking function with output\"\n",
    "    with out:\n",
    "        # what happens when we press the button\n",
    "        clear_output()\n",
    "        global led_blink\n",
    "        global interval\n",
    "        \n",
    "        if led_blink :\n",
    "            led_blink = False \n",
    "        else :\n",
    "            interval = slider.value\n",
    "            \n",
    "            from threading import Thread\n",
    "            x = Thread(target=blink_led, args=[ ] )\n",
    "            x.start()\n",
    "        pass\n",
    "    \n",
    "        button.description = f'LED blink = {led_blink}'\n",
    "        \n",
    "        print(f'LED = {led_blink}, interval={interval}')\n",
    "        \n",
    "    pass\n",
    "pass\n",
    "        \n",
    "def on_slider_value_chage(change):\n",
    "    with out:\n",
    "        clear_output()\n",
    "        global interval\n",
    "        interval = change['new']\n",
    "        print( f\"interval = {interval}\")\n",
    "    pass\n",
    "pass\n",
    "\n",
    "# linking button and function together using a button's method\n",
    "slider.observe(on_slider_value_chage, 'value')\n",
    "button.on_click(on_button_clicked)\n",
    "# displaying button and its output together\n",
    "widgets.VBox( [slider, button, out] )\n"
   ]
  }
 ],
 "metadata": {
  "kernelspec": {
   "display_name": "Python 3",
   "language": "python",
   "name": "python3"
  },
  "language_info": {
   "codemirror_mode": {
    "name": "ipython",
    "version": 3
   },
   "file_extension": ".py",
   "mimetype": "text/x-python",
   "name": "python",
   "nbconvert_exporter": "python",
   "pygments_lexer": "ipython3",
   "version": "3.7.3"
  }
 },
 "nbformat": 4,
 "nbformat_minor": 4
}
