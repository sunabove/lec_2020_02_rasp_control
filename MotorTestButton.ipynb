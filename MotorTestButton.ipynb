{
 "cells": [
  {
   "cell_type": "code",
   "execution_count": 1,
   "id": "eb7ef6d4",
   "metadata": {},
   "outputs": [],
   "source": [
    "from Motor import * \n",
    "motor = Motor(debug=1)"
   ]
  },
  {
   "cell_type": "code",
   "execution_count": 4,
   "id": "6c183c00",
   "metadata": {},
   "outputs": [
    {
     "data": {
      "application/vnd.jupyter.widget-view+json": {
       "model_id": "c79a97cc55e94424b1c82363b13a9696",
       "version_major": 2,
       "version_minor": 0
      },
      "text/plain": [
       "GridspecLayout(children=(Button(description='Forward', layout=Layout(grid_area='widget001'), style=ButtonStyle…"
      ]
     },
     "metadata": {},
     "output_type": "display_data"
    }
   ],
   "source": [
    "from IPython.display import display, Markdown, clear_output\n",
    "import ipywidgets as widgets\n",
    "forwardBtn = widgets.Button(description=f'Forward')\n",
    "backwardBtn = widgets.Button(description=f'Backward')\n",
    "leftBtn = widgets.Button(description=f'Left')\n",
    "rightBtn = widgets.Button(description=f'Right')\n",
    "stopBtn = widgets.Button(description=f'Stop')\n",
    "out = widgets.Output()\n",
    "\n",
    "def test(b) :  \n",
    "    if b == forwardBtn :\n",
    "        motor.forward()\n",
    "    elif b == backwardBtn :\n",
    "        motor.backward()\n",
    "    elif b == leftBtn :\n",
    "        motor.left()\n",
    "    elif b == rightBtn :\n",
    "        motor.right()\n",
    "    else :\n",
    "        motor.stop()\n",
    "pass\n",
    "\n",
    "forwardBtn.on_click( test ); backwardBtn.on_click( test )\n",
    "leftBtn.on_click( test ) ; rightBtn.on_click( test )\n",
    "stopBtn.on_click( test )\n",
    "\n",
    "grid = widgets.GridspecLayout(3,3, width=\"460px\")\n",
    "grid[0, 1] = forwardBtn ; grid[1, 0] = leftBtn\n",
    "grid[1, 1] = stopBtn ; grid[1, 2] = rightBtn\n",
    "grid[2, 1] = backwardBtn\n",
    "grid"
   ]
  }
 ],
 "metadata": {
  "kernelspec": {
   "display_name": "Python 3",
   "language": "python",
   "name": "python3"
  },
  "language_info": {
   "codemirror_mode": {
    "name": "ipython",
    "version": 3
   },
   "file_extension": ".py",
   "mimetype": "text/x-python",
   "name": "python",
   "nbconvert_exporter": "python",
   "pygments_lexer": "ipython3",
   "version": "3.7.3"
  }
 },
 "nbformat": 4,
 "nbformat_minor": 5
}
