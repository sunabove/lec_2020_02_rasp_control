{
 "cells": [
  {
   "cell_type": "code",
   "execution_count": 17,
   "id": "370486b8",
   "metadata": {},
   "outputs": [
    {
     "data": {
      "application/vnd.jupyter.widget-view+json": {
       "model_id": "6894495748d046f6972ed259c7865bae",
       "version_major": 2,
       "version_minor": 0
      },
      "text/plain": [
       "GridspecLayout(children=(Button(description='Forward', layout=Layout(grid_area='widget001'), style=ButtonStyle…"
      ]
     },
     "metadata": {},
     "output_type": "display_data"
    }
   ],
   "source": [
    "from IPython.display import display, Markdown, clear_output\n",
    "import ipywidgets as widgets\n",
    "\n",
    "forward = widgets.Button(description=f'Forward')\n",
    "backward = widgets.Button(description=f'Backward')\n",
    "left = widgets.Button(description=f'Left')\n",
    "right = widgets.Button(description=f'Right')\n",
    "stop = widgets.Button(description=f'Stop')\n",
    "out = widgets.Output()\n",
    "\n",
    "#btton.on_click(on_button_clicked)\n",
    "\n",
    "grid = widgets.GridspecLayout(3,3, width=\"60%\")\n",
    "\n",
    "grid[0, 1] = forward\n",
    "grid[1, 0] = left\n",
    "grid[1, 1] = stop\n",
    "grid[1, 2] = right\n",
    "grid[2, 1] = backward\n",
    "\n",
    "grid\n",
    "\n"
   ]
  }
 ],
 "metadata": {
  "kernelspec": {
   "display_name": "Python 3",
   "language": "python",
   "name": "python3"
  },
  "language_info": {
   "codemirror_mode": {
    "name": "ipython",
    "version": 3
   },
   "file_extension": ".py",
   "mimetype": "text/x-python",
   "name": "python",
   "nbconvert_exporter": "python",
   "pygments_lexer": "ipython3",
   "version": "3.7.3"
  }
 },
 "nbformat": 4,
 "nbformat_minor": 5
}
